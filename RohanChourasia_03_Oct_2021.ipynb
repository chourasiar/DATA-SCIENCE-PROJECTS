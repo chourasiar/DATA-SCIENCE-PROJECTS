{
  "nbformat": 4,
  "nbformat_minor": 0,
  "metadata": {
    "colab": {
      "name": "RohanChourasia_03-Oct-2021.ipynb",
      "provenance": [],
      "collapsed_sections": []
    },
    "kernelspec": {
      "display_name": "Python 3",
      "language": "python",
      "name": "python3"
    },
    "language_info": {
      "codemirror_mode": {
        "name": "ipython",
        "version": 3
      },
      "file_extension": ".py",
      "mimetype": "text/x-python",
      "name": "python",
      "nbconvert_exporter": "python",
      "pygments_lexer": "ipython3",
      "version": "3.7.3"
    },
    "toc": {
      "base_numbering": 1,
      "nav_menu": {},
      "number_sections": true,
      "sideBar": true,
      "skip_h1_title": false,
      "title_cell": "Table of Contents",
      "title_sidebar": "Contents",
      "toc_cell": false,
      "toc_position": {},
      "toc_section_display": true,
      "toc_window_display": false
    },
    "varInspector": {
      "cols": {
        "lenName": 16,
        "lenType": 16,
        "lenVar": 40
      },
      "kernels_config": {
        "python": {
          "delete_cmd_postfix": "",
          "delete_cmd_prefix": "del ",
          "library": "var_list.py",
          "varRefreshCmd": "print(var_dic_list())"
        },
        "r": {
          "delete_cmd_postfix": ") ",
          "delete_cmd_prefix": "rm(",
          "library": "var_list.r",
          "varRefreshCmd": "cat(var_dic_list()) "
        }
      },
      "types_to_exclude": [
        "module",
        "function",
        "builtin_function_or_method",
        "instance",
        "_Feature"
      ],
      "window_display": false
    }
  },
  "cells": [
    {
      "cell_type": "markdown",
      "metadata": {
        "id": "98yskoA9197_"
      },
      "source": [
        "#### Instructions:\n",
        "\n",
        "For all questions after 10th, Please only use the data specified in the note given just below the question\n",
        "You need to add answers in the same file i.e. PDS_UberDriveProject_Questions.ipynb' and rename that file as 'Name_Date.ipynb'.You can mention the date on which you will be uploading/submitting the file.For e.g. if you plan to submit your assignment on 1st January 2021, you can rename the file as 'STUDENTNAME_01-Jan-2021'"
      ]
    },
    {
      "cell_type": "markdown",
      "metadata": {
        "id": "WiVXvuYj198C"
      },
      "source": [
        "# Load the necessary libraries. Import and load the dataset with a name uber_drives ."
      ]
    },
    {
      "cell_type": "code",
      "metadata": {
        "id": "1t_S2Qw_198D"
      },
      "source": [
        "import pandas as pd\n",
        "import numpy as np\n",
        "import matplotlib.pyplot as plt\n",
        "import seaborn as sns"
      ],
      "execution_count": 36,
      "outputs": []
    },
    {
      "cell_type": "code",
      "metadata": {
        "colab": {
          "base_uri": "https://localhost:8080/"
        },
        "id": "jJ1yggC3jd8C",
        "outputId": "da71dea4-6e2c-4f0a-f754-0213dd305e62"
      },
      "source": [
        "# Mounting the drive to read dataset in google colab\n",
        "from google.colab import drive\n",
        "\n",
        "drive.mount('/content/drive')"
      ],
      "execution_count": 37,
      "outputs": [
        {
          "output_type": "stream",
          "name": "stdout",
          "text": [
            "Drive already mounted at /content/drive; to attempt to forcibly remount, call drive.mount(\"/content/drive\", force_remount=True).\n"
          ]
        }
      ]
    },
    {
      "cell_type": "code",
      "metadata": {
        "id": "NtQdq6-ojsKw"
      },
      "source": [
        "# Path of the csv file\n",
        "path = \"/content/drive/MyDrive/uberdrives.csv\"\n"
      ],
      "execution_count": 38,
      "outputs": []
    },
    {
      "cell_type": "code",
      "metadata": {
        "id": "rOMfio427XfR"
      },
      "source": [
        "# Get the Data\n",
        "uber_drives = pd.read_csv(path)"
      ],
      "execution_count": 39,
      "outputs": []
    },
    {
      "cell_type": "markdown",
      "metadata": {
        "id": "DZktgL3E198I"
      },
      "source": [
        "## Q1. Show the last 10 records of the dataset. (2 point)"
      ]
    },
    {
      "cell_type": "code",
      "metadata": {
        "colab": {
          "base_uri": "https://localhost:8080/",
          "height": 363
        },
        "id": "pk7z2uii198I",
        "outputId": "ae4b1a79-1cd8-4697-87ba-9bcc60a6b72d"
      },
      "source": [
        "uber_drives.tail(10)"
      ],
      "execution_count": 40,
      "outputs": [
        {
          "output_type": "execute_result",
          "data": {
            "text/html": [
              "<div>\n",
              "<style scoped>\n",
              "    .dataframe tbody tr th:only-of-type {\n",
              "        vertical-align: middle;\n",
              "    }\n",
              "\n",
              "    .dataframe tbody tr th {\n",
              "        vertical-align: top;\n",
              "    }\n",
              "\n",
              "    .dataframe thead th {\n",
              "        text-align: right;\n",
              "    }\n",
              "</style>\n",
              "<table border=\"1\" class=\"dataframe\">\n",
              "  <thead>\n",
              "    <tr style=\"text-align: right;\">\n",
              "      <th></th>\n",
              "      <th>START_DATE*</th>\n",
              "      <th>END_DATE*</th>\n",
              "      <th>CATEGORY*</th>\n",
              "      <th>START*</th>\n",
              "      <th>STOP*</th>\n",
              "      <th>MILES*</th>\n",
              "      <th>PURPOSE*</th>\n",
              "    </tr>\n",
              "  </thead>\n",
              "  <tbody>\n",
              "    <tr>\n",
              "      <th>1145</th>\n",
              "      <td>12/30/2016 10:15</td>\n",
              "      <td>12/30/2016 10:33</td>\n",
              "      <td>Business</td>\n",
              "      <td>Karachi</td>\n",
              "      <td>Karachi</td>\n",
              "      <td>2.8</td>\n",
              "      <td>Errand/Supplies</td>\n",
              "    </tr>\n",
              "    <tr>\n",
              "      <th>1146</th>\n",
              "      <td>12/30/2016 11:31</td>\n",
              "      <td>12/30/2016 11:56</td>\n",
              "      <td>Business</td>\n",
              "      <td>Karachi</td>\n",
              "      <td>Karachi</td>\n",
              "      <td>2.9</td>\n",
              "      <td>Errand/Supplies</td>\n",
              "    </tr>\n",
              "    <tr>\n",
              "      <th>1147</th>\n",
              "      <td>12/30/2016 15:41</td>\n",
              "      <td>12/30/2016 16:03</td>\n",
              "      <td>Business</td>\n",
              "      <td>Karachi</td>\n",
              "      <td>Karachi</td>\n",
              "      <td>4.6</td>\n",
              "      <td>Errand/Supplies</td>\n",
              "    </tr>\n",
              "    <tr>\n",
              "      <th>1148</th>\n",
              "      <td>12/30/2016 16:45</td>\n",
              "      <td>12/30/2016 17:08</td>\n",
              "      <td>Business</td>\n",
              "      <td>Karachi</td>\n",
              "      <td>Karachi</td>\n",
              "      <td>4.6</td>\n",
              "      <td>Meeting</td>\n",
              "    </tr>\n",
              "    <tr>\n",
              "      <th>1149</th>\n",
              "      <td>12/30/2016 23:06</td>\n",
              "      <td>12/30/2016 23:10</td>\n",
              "      <td>Business</td>\n",
              "      <td>Karachi</td>\n",
              "      <td>Karachi</td>\n",
              "      <td>0.8</td>\n",
              "      <td>Customer Visit</td>\n",
              "    </tr>\n",
              "    <tr>\n",
              "      <th>1150</th>\n",
              "      <td>12/31/2016 1:07</td>\n",
              "      <td>12/31/2016 1:14</td>\n",
              "      <td>Business</td>\n",
              "      <td>Karachi</td>\n",
              "      <td>Karachi</td>\n",
              "      <td>0.7</td>\n",
              "      <td>Meeting</td>\n",
              "    </tr>\n",
              "    <tr>\n",
              "      <th>1151</th>\n",
              "      <td>12/31/2016 13:24</td>\n",
              "      <td>12/31/2016 13:42</td>\n",
              "      <td>Business</td>\n",
              "      <td>Karachi</td>\n",
              "      <td>Unknown Location</td>\n",
              "      <td>3.9</td>\n",
              "      <td>Temporary Site</td>\n",
              "    </tr>\n",
              "    <tr>\n",
              "      <th>1152</th>\n",
              "      <td>12/31/2016 15:03</td>\n",
              "      <td>12/31/2016 15:38</td>\n",
              "      <td>Business</td>\n",
              "      <td>Unknown Location</td>\n",
              "      <td>Unknown Location</td>\n",
              "      <td>16.2</td>\n",
              "      <td>Meeting</td>\n",
              "    </tr>\n",
              "    <tr>\n",
              "      <th>1153</th>\n",
              "      <td>12/31/2016 21:32</td>\n",
              "      <td>12/31/2016 21:50</td>\n",
              "      <td>Business</td>\n",
              "      <td>Katunayake</td>\n",
              "      <td>Gampaha</td>\n",
              "      <td>6.4</td>\n",
              "      <td>Temporary Site</td>\n",
              "    </tr>\n",
              "    <tr>\n",
              "      <th>1154</th>\n",
              "      <td>12/31/2016 22:08</td>\n",
              "      <td>12/31/2016 23:51</td>\n",
              "      <td>Business</td>\n",
              "      <td>Gampaha</td>\n",
              "      <td>Ilukwatta</td>\n",
              "      <td>48.2</td>\n",
              "      <td>Temporary Site</td>\n",
              "    </tr>\n",
              "  </tbody>\n",
              "</table>\n",
              "</div>"
            ],
            "text/plain": [
              "           START_DATE*         END_DATE*  ... MILES*         PURPOSE*\n",
              "1145  12/30/2016 10:15  12/30/2016 10:33  ...    2.8  Errand/Supplies\n",
              "1146  12/30/2016 11:31  12/30/2016 11:56  ...    2.9  Errand/Supplies\n",
              "1147  12/30/2016 15:41  12/30/2016 16:03  ...    4.6  Errand/Supplies\n",
              "1148  12/30/2016 16:45  12/30/2016 17:08  ...    4.6          Meeting\n",
              "1149  12/30/2016 23:06  12/30/2016 23:10  ...    0.8   Customer Visit\n",
              "1150   12/31/2016 1:07   12/31/2016 1:14  ...    0.7          Meeting\n",
              "1151  12/31/2016 13:24  12/31/2016 13:42  ...    3.9   Temporary Site\n",
              "1152  12/31/2016 15:03  12/31/2016 15:38  ...   16.2          Meeting\n",
              "1153  12/31/2016 21:32  12/31/2016 21:50  ...    6.4   Temporary Site\n",
              "1154  12/31/2016 22:08  12/31/2016 23:51  ...   48.2   Temporary Site\n",
              "\n",
              "[10 rows x 7 columns]"
            ]
          },
          "metadata": {},
          "execution_count": 40
        }
      ]
    },
    {
      "cell_type": "markdown",
      "metadata": {
        "id": "ipD0ZQ9O198O"
      },
      "source": [
        "## Q2. Show the first 10 records of the dataset. (2 points)"
      ]
    },
    {
      "cell_type": "code",
      "metadata": {
        "colab": {
          "base_uri": "https://localhost:8080/",
          "height": 363
        },
        "id": "XzYRsxR1198O",
        "outputId": "30f9b569-449a-4e3f-a477-47c105e9551e"
      },
      "source": [
        "uber_drives.head(10)"
      ],
      "execution_count": 41,
      "outputs": [
        {
          "output_type": "execute_result",
          "data": {
            "text/html": [
              "<div>\n",
              "<style scoped>\n",
              "    .dataframe tbody tr th:only-of-type {\n",
              "        vertical-align: middle;\n",
              "    }\n",
              "\n",
              "    .dataframe tbody tr th {\n",
              "        vertical-align: top;\n",
              "    }\n",
              "\n",
              "    .dataframe thead th {\n",
              "        text-align: right;\n",
              "    }\n",
              "</style>\n",
              "<table border=\"1\" class=\"dataframe\">\n",
              "  <thead>\n",
              "    <tr style=\"text-align: right;\">\n",
              "      <th></th>\n",
              "      <th>START_DATE*</th>\n",
              "      <th>END_DATE*</th>\n",
              "      <th>CATEGORY*</th>\n",
              "      <th>START*</th>\n",
              "      <th>STOP*</th>\n",
              "      <th>MILES*</th>\n",
              "      <th>PURPOSE*</th>\n",
              "    </tr>\n",
              "  </thead>\n",
              "  <tbody>\n",
              "    <tr>\n",
              "      <th>0</th>\n",
              "      <td>01-01-2016 21:11</td>\n",
              "      <td>01-01-2016 21:17</td>\n",
              "      <td>Business</td>\n",
              "      <td>Fort Pierce</td>\n",
              "      <td>Fort Pierce</td>\n",
              "      <td>5.1</td>\n",
              "      <td>Meal/Entertain</td>\n",
              "    </tr>\n",
              "    <tr>\n",
              "      <th>1</th>\n",
              "      <td>01-02-2016 01:25</td>\n",
              "      <td>01-02-2016 01:37</td>\n",
              "      <td>Business</td>\n",
              "      <td>Fort Pierce</td>\n",
              "      <td>Fort Pierce</td>\n",
              "      <td>5.0</td>\n",
              "      <td>NaN</td>\n",
              "    </tr>\n",
              "    <tr>\n",
              "      <th>2</th>\n",
              "      <td>01-02-2016 20:25</td>\n",
              "      <td>01-02-2016 20:38</td>\n",
              "      <td>Business</td>\n",
              "      <td>Fort Pierce</td>\n",
              "      <td>Fort Pierce</td>\n",
              "      <td>4.8</td>\n",
              "      <td>Errand/Supplies</td>\n",
              "    </tr>\n",
              "    <tr>\n",
              "      <th>3</th>\n",
              "      <td>01-05-2016 17:31</td>\n",
              "      <td>01-05-2016 17:45</td>\n",
              "      <td>Business</td>\n",
              "      <td>Fort Pierce</td>\n",
              "      <td>Fort Pierce</td>\n",
              "      <td>4.7</td>\n",
              "      <td>Meeting</td>\n",
              "    </tr>\n",
              "    <tr>\n",
              "      <th>4</th>\n",
              "      <td>01-06-2016 14:42</td>\n",
              "      <td>01-06-2016 15:49</td>\n",
              "      <td>Business</td>\n",
              "      <td>Fort Pierce</td>\n",
              "      <td>West Palm Beach</td>\n",
              "      <td>63.7</td>\n",
              "      <td>Customer Visit</td>\n",
              "    </tr>\n",
              "    <tr>\n",
              "      <th>5</th>\n",
              "      <td>01-06-2016 17:15</td>\n",
              "      <td>01-06-2016 17:19</td>\n",
              "      <td>Business</td>\n",
              "      <td>West Palm Beach</td>\n",
              "      <td>West Palm Beach</td>\n",
              "      <td>4.3</td>\n",
              "      <td>Meal/Entertain</td>\n",
              "    </tr>\n",
              "    <tr>\n",
              "      <th>6</th>\n",
              "      <td>01-06-2016 17:30</td>\n",
              "      <td>01-06-2016 17:35</td>\n",
              "      <td>Business</td>\n",
              "      <td>West Palm Beach</td>\n",
              "      <td>Palm Beach</td>\n",
              "      <td>7.1</td>\n",
              "      <td>Meeting</td>\n",
              "    </tr>\n",
              "    <tr>\n",
              "      <th>7</th>\n",
              "      <td>01-07-2016 13:27</td>\n",
              "      <td>01-07-2016 13:33</td>\n",
              "      <td>Business</td>\n",
              "      <td>Cary</td>\n",
              "      <td>Cary</td>\n",
              "      <td>0.8</td>\n",
              "      <td>Meeting</td>\n",
              "    </tr>\n",
              "    <tr>\n",
              "      <th>8</th>\n",
              "      <td>01-10-2016 08:05</td>\n",
              "      <td>01-10-2016 08:25</td>\n",
              "      <td>Business</td>\n",
              "      <td>Cary</td>\n",
              "      <td>Morrisville</td>\n",
              "      <td>8.3</td>\n",
              "      <td>Meeting</td>\n",
              "    </tr>\n",
              "    <tr>\n",
              "      <th>9</th>\n",
              "      <td>01-10-2016 12:17</td>\n",
              "      <td>01-10-2016 12:44</td>\n",
              "      <td>Business</td>\n",
              "      <td>Jamaica</td>\n",
              "      <td>New York</td>\n",
              "      <td>16.5</td>\n",
              "      <td>Customer Visit</td>\n",
              "    </tr>\n",
              "  </tbody>\n",
              "</table>\n",
              "</div>"
            ],
            "text/plain": [
              "        START_DATE*         END_DATE*  ... MILES*         PURPOSE*\n",
              "0  01-01-2016 21:11  01-01-2016 21:17  ...    5.1   Meal/Entertain\n",
              "1  01-02-2016 01:25  01-02-2016 01:37  ...    5.0              NaN\n",
              "2  01-02-2016 20:25  01-02-2016 20:38  ...    4.8  Errand/Supplies\n",
              "3  01-05-2016 17:31  01-05-2016 17:45  ...    4.7          Meeting\n",
              "4  01-06-2016 14:42  01-06-2016 15:49  ...   63.7   Customer Visit\n",
              "5  01-06-2016 17:15  01-06-2016 17:19  ...    4.3   Meal/Entertain\n",
              "6  01-06-2016 17:30  01-06-2016 17:35  ...    7.1          Meeting\n",
              "7  01-07-2016 13:27  01-07-2016 13:33  ...    0.8          Meeting\n",
              "8  01-10-2016 08:05  01-10-2016 08:25  ...    8.3          Meeting\n",
              "9  01-10-2016 12:17  01-10-2016 12:44  ...   16.5   Customer Visit\n",
              "\n",
              "[10 rows x 7 columns]"
            ]
          },
          "metadata": {},
          "execution_count": 41
        }
      ]
    },
    {
      "cell_type": "markdown",
      "metadata": {
        "id": "R2F4GX15198S"
      },
      "source": [
        "## Q3. Show the dimension(number of rows and columns) of the dataset. (2 points)"
      ]
    },
    {
      "cell_type": "code",
      "metadata": {
        "colab": {
          "base_uri": "https://localhost:8080/"
        },
        "id": "5YAWUNwZ198T",
        "outputId": "30b86553-1480-40dd-e89a-43fa9c298c6e"
      },
      "source": [
        "# Number of Rows\n",
        "rows=len(uber_drives)\n",
        "print(rows)\n",
        "# Number of COlumns\n",
        "columns=len(uber_drives.columns)\n",
        "print(columns)"
      ],
      "execution_count": 42,
      "outputs": [
        {
          "output_type": "stream",
          "name": "stdout",
          "text": [
            "1155\n",
            "7\n"
          ]
        }
      ]
    },
    {
      "cell_type": "markdown",
      "metadata": {
        "id": "H6x0S6vs198W"
      },
      "source": [
        "## Q4. Show the size (Total number of elements) of the dataset. (2 points)"
      ]
    },
    {
      "cell_type": "code",
      "metadata": {
        "colab": {
          "base_uri": "https://localhost:8080/"
        },
        "id": "2IQc1x7D198X",
        "outputId": "b3c9e1c3-b092-496d-9be8-6345c9554a1e"
      },
      "source": [
        "uber_drives.size"
      ],
      "execution_count": 43,
      "outputs": [
        {
          "output_type": "execute_result",
          "data": {
            "text/plain": [
              "8085"
            ]
          },
          "metadata": {},
          "execution_count": 43
        }
      ]
    },
    {
      "cell_type": "markdown",
      "metadata": {
        "id": "c2ATRpjm198a"
      },
      "source": [
        "## Q5. Display the information about all the variables of the data set. What can you infer from the output?(1 +2 points)\n",
        "\n",
        "#### Hint: Information includes - Total number of columns,variable data-types, number of non-null values in a variable, and usage"
      ]
    },
    {
      "cell_type": "code",
      "metadata": {
        "colab": {
          "base_uri": "https://localhost:8080/"
        },
        "id": "D7Pfnrb6198b",
        "outputId": "d63b7a4d-38ca-4197-80fa-8e4933484324"
      },
      "source": [
        "uber_drives.info()"
      ],
      "execution_count": 44,
      "outputs": [
        {
          "output_type": "stream",
          "name": "stdout",
          "text": [
            "<class 'pandas.core.frame.DataFrame'>\n",
            "RangeIndex: 1155 entries, 0 to 1154\n",
            "Data columns (total 7 columns):\n",
            " #   Column       Non-Null Count  Dtype  \n",
            "---  ------       --------------  -----  \n",
            " 0   START_DATE*  1155 non-null   object \n",
            " 1   END_DATE*    1155 non-null   object \n",
            " 2   CATEGORY*    1155 non-null   object \n",
            " 3   START*       1155 non-null   object \n",
            " 4   STOP*        1155 non-null   object \n",
            " 5   MILES*       1155 non-null   float64\n",
            " 6   PURPOSE*     653 non-null    object \n",
            "dtypes: float64(1), object(6)\n",
            "memory usage: 63.3+ KB\n"
          ]
        }
      ]
    },
    {
      "cell_type": "markdown",
      "metadata": {
        "id": "emZkbUV_198g"
      },
      "source": [
        "## Q6. Check for missing values. (2 points) \n",
        "\n",
        "####  Note: Output should contain only one boolean value"
      ]
    },
    {
      "cell_type": "code",
      "metadata": {
        "colab": {
          "base_uri": "https://localhost:8080/",
          "height": 206
        },
        "id": "XWU-AunT198h",
        "outputId": "f0a0c831-9046-4828-a11c-9b1597db144f"
      },
      "source": [
        "uber_drives.isnull().head()"
      ],
      "execution_count": 45,
      "outputs": [
        {
          "output_type": "execute_result",
          "data": {
            "text/html": [
              "<div>\n",
              "<style scoped>\n",
              "    .dataframe tbody tr th:only-of-type {\n",
              "        vertical-align: middle;\n",
              "    }\n",
              "\n",
              "    .dataframe tbody tr th {\n",
              "        vertical-align: top;\n",
              "    }\n",
              "\n",
              "    .dataframe thead th {\n",
              "        text-align: right;\n",
              "    }\n",
              "</style>\n",
              "<table border=\"1\" class=\"dataframe\">\n",
              "  <thead>\n",
              "    <tr style=\"text-align: right;\">\n",
              "      <th></th>\n",
              "      <th>START_DATE*</th>\n",
              "      <th>END_DATE*</th>\n",
              "      <th>CATEGORY*</th>\n",
              "      <th>START*</th>\n",
              "      <th>STOP*</th>\n",
              "      <th>MILES*</th>\n",
              "      <th>PURPOSE*</th>\n",
              "    </tr>\n",
              "  </thead>\n",
              "  <tbody>\n",
              "    <tr>\n",
              "      <th>0</th>\n",
              "      <td>False</td>\n",
              "      <td>False</td>\n",
              "      <td>False</td>\n",
              "      <td>False</td>\n",
              "      <td>False</td>\n",
              "      <td>False</td>\n",
              "      <td>False</td>\n",
              "    </tr>\n",
              "    <tr>\n",
              "      <th>1</th>\n",
              "      <td>False</td>\n",
              "      <td>False</td>\n",
              "      <td>False</td>\n",
              "      <td>False</td>\n",
              "      <td>False</td>\n",
              "      <td>False</td>\n",
              "      <td>True</td>\n",
              "    </tr>\n",
              "    <tr>\n",
              "      <th>2</th>\n",
              "      <td>False</td>\n",
              "      <td>False</td>\n",
              "      <td>False</td>\n",
              "      <td>False</td>\n",
              "      <td>False</td>\n",
              "      <td>False</td>\n",
              "      <td>False</td>\n",
              "    </tr>\n",
              "    <tr>\n",
              "      <th>3</th>\n",
              "      <td>False</td>\n",
              "      <td>False</td>\n",
              "      <td>False</td>\n",
              "      <td>False</td>\n",
              "      <td>False</td>\n",
              "      <td>False</td>\n",
              "      <td>False</td>\n",
              "    </tr>\n",
              "    <tr>\n",
              "      <th>4</th>\n",
              "      <td>False</td>\n",
              "      <td>False</td>\n",
              "      <td>False</td>\n",
              "      <td>False</td>\n",
              "      <td>False</td>\n",
              "      <td>False</td>\n",
              "      <td>False</td>\n",
              "    </tr>\n",
              "  </tbody>\n",
              "</table>\n",
              "</div>"
            ],
            "text/plain": [
              "   START_DATE*  END_DATE*  CATEGORY*  START*  STOP*  MILES*  PURPOSE*\n",
              "0        False      False      False   False  False   False     False\n",
              "1        False      False      False   False  False   False      True\n",
              "2        False      False      False   False  False   False     False\n",
              "3        False      False      False   False  False   False     False\n",
              "4        False      False      False   False  False   False     False"
            ]
          },
          "metadata": {},
          "execution_count": 45
        }
      ]
    },
    {
      "cell_type": "markdown",
      "metadata": {
        "id": "UCvC2OPe198l"
      },
      "source": [
        "## Q7. How many missing values are present in the entire dataset? (2 points)\n"
      ]
    },
    {
      "cell_type": "code",
      "metadata": {
        "colab": {
          "base_uri": "https://localhost:8080/"
        },
        "id": "o2-vHyGA198m",
        "outputId": "bd4792cd-fccc-4d0f-8a7d-24b1e388af6e"
      },
      "source": [
        "uber_drives.isna().sum().sum()"
      ],
      "execution_count": 46,
      "outputs": [
        {
          "output_type": "execute_result",
          "data": {
            "text/plain": [
              "502"
            ]
          },
          "metadata": {},
          "execution_count": 46
        }
      ]
    },
    {
      "cell_type": "markdown",
      "metadata": {
        "id": "617aSeL_198q"
      },
      "source": [
        "## Q8. Get the summary of the original data. (2 points).\n",
        "\n",
        "#### Hint: Summary includes- Count,Mean, Std, Min, 25%,50%,75% and max"
      ]
    },
    {
      "cell_type": "code",
      "metadata": {
        "colab": {
          "base_uri": "https://localhost:8080/",
          "height": 300
        },
        "id": "hMkibRQg198q",
        "outputId": "bb0ce3da-7089-4326-a7f4-d8823d826628"
      },
      "source": [
        "uber_drives.describe()"
      ],
      "execution_count": 47,
      "outputs": [
        {
          "output_type": "execute_result",
          "data": {
            "text/html": [
              "<div>\n",
              "<style scoped>\n",
              "    .dataframe tbody tr th:only-of-type {\n",
              "        vertical-align: middle;\n",
              "    }\n",
              "\n",
              "    .dataframe tbody tr th {\n",
              "        vertical-align: top;\n",
              "    }\n",
              "\n",
              "    .dataframe thead th {\n",
              "        text-align: right;\n",
              "    }\n",
              "</style>\n",
              "<table border=\"1\" class=\"dataframe\">\n",
              "  <thead>\n",
              "    <tr style=\"text-align: right;\">\n",
              "      <th></th>\n",
              "      <th>MILES*</th>\n",
              "    </tr>\n",
              "  </thead>\n",
              "  <tbody>\n",
              "    <tr>\n",
              "      <th>count</th>\n",
              "      <td>1155.000000</td>\n",
              "    </tr>\n",
              "    <tr>\n",
              "      <th>mean</th>\n",
              "      <td>10.566840</td>\n",
              "    </tr>\n",
              "    <tr>\n",
              "      <th>std</th>\n",
              "      <td>21.579106</td>\n",
              "    </tr>\n",
              "    <tr>\n",
              "      <th>min</th>\n",
              "      <td>0.500000</td>\n",
              "    </tr>\n",
              "    <tr>\n",
              "      <th>25%</th>\n",
              "      <td>2.900000</td>\n",
              "    </tr>\n",
              "    <tr>\n",
              "      <th>50%</th>\n",
              "      <td>6.000000</td>\n",
              "    </tr>\n",
              "    <tr>\n",
              "      <th>75%</th>\n",
              "      <td>10.400000</td>\n",
              "    </tr>\n",
              "    <tr>\n",
              "      <th>max</th>\n",
              "      <td>310.300000</td>\n",
              "    </tr>\n",
              "  </tbody>\n",
              "</table>\n",
              "</div>"
            ],
            "text/plain": [
              "            MILES*\n",
              "count  1155.000000\n",
              "mean     10.566840\n",
              "std      21.579106\n",
              "min       0.500000\n",
              "25%       2.900000\n",
              "50%       6.000000\n",
              "75%      10.400000\n",
              "max     310.300000"
            ]
          },
          "metadata": {},
          "execution_count": 47
        }
      ]
    },
    {
      "cell_type": "markdown",
      "metadata": {
        "id": "8PmU-86n198v"
      },
      "source": [
        "\n",
        "\n",
        "## Q9. Drop the missing values and store the data in a new dataframe (name it\"df\") (2-points)\n",
        "\n",
        "#### Note: Dataframe \"df\" will not contain any missing value"
      ]
    },
    {
      "cell_type": "code",
      "metadata": {
        "id": "3xZC0dvq198w"
      },
      "source": [
        "df=uber_drives.dropna()\n"
      ],
      "execution_count": 48,
      "outputs": []
    },
    {
      "cell_type": "markdown",
      "metadata": {
        "id": "2vIFI9G61983"
      },
      "source": [
        "## Q10. Check the information of the dataframe(df). (1 points)\n",
        "\n",
        "#### Hint: Information includes - Total number of columns,variable data-types, number of non-null values in a variable, and usage"
      ]
    },
    {
      "cell_type": "code",
      "metadata": {
        "colab": {
          "base_uri": "https://localhost:8080/"
        },
        "id": "DrmfQwDc1983",
        "outputId": "31cf188c-c20d-429b-f59b-4f2f8ffe8abd"
      },
      "source": [
        "df.info()"
      ],
      "execution_count": 49,
      "outputs": [
        {
          "output_type": "stream",
          "name": "stdout",
          "text": [
            "<class 'pandas.core.frame.DataFrame'>\n",
            "Int64Index: 653 entries, 0 to 1154\n",
            "Data columns (total 7 columns):\n",
            " #   Column       Non-Null Count  Dtype  \n",
            "---  ------       --------------  -----  \n",
            " 0   START_DATE*  653 non-null    object \n",
            " 1   END_DATE*    653 non-null    object \n",
            " 2   CATEGORY*    653 non-null    object \n",
            " 3   START*       653 non-null    object \n",
            " 4   STOP*        653 non-null    object \n",
            " 5   MILES*       653 non-null    float64\n",
            " 6   PURPOSE*     653 non-null    object \n",
            "dtypes: float64(1), object(6)\n",
            "memory usage: 40.8+ KB\n"
          ]
        }
      ]
    },
    {
      "cell_type": "markdown",
      "metadata": {
        "id": "Pqm4jhgT1986"
      },
      "source": [
        "## Q11. Get the unique start locations. (2 points)\n",
        "#### Note: This question is based on the dataframe with no 'NA' values"
      ]
    },
    {
      "cell_type": "code",
      "metadata": {
        "colab": {
          "base_uri": "https://localhost:8080/"
        },
        "id": "jsuoItZX1987",
        "outputId": "42085c02-2c44-4fba-a646-bb3e423330e6"
      },
      "source": [
        "df['START*'].unique()"
      ],
      "execution_count": 50,
      "outputs": [
        {
          "output_type": "execute_result",
          "data": {
            "text/plain": [
              "array(['Fort Pierce', 'West Palm Beach', 'Cary', 'Jamaica', 'New York',\n",
              "       'Elmhurst', 'Midtown', 'East Harlem', 'Flatiron District',\n",
              "       'Midtown East', 'Hudson Square', 'Lower Manhattan',\n",
              "       \"Hell's Kitchen\", 'Downtown', 'Gulfton', 'Houston', 'Eagan Park',\n",
              "       'Morrisville', 'Durham', 'Farmington Woods', 'Lake Wellingborough',\n",
              "       'Fayetteville Street', 'Raleigh', 'Whitebridge', 'Hazelwood',\n",
              "       'Fairmont', 'Meredith Townes', 'Apex', 'Chapel Hill', 'Northwoods',\n",
              "       'Edgehill Farms', 'Eastgate', 'East Elmhurst', 'Long Island City',\n",
              "       'Katunayaka', 'Colombo', 'Nugegoda', 'Unknown Location',\n",
              "       'Islamabad', 'R?walpindi', 'Noorpur Shahan', 'Preston',\n",
              "       'Heritage Pines', 'Tanglewood', 'Waverly Place', 'Wayne Ridge',\n",
              "       'Westpark Place', 'East Austin', 'The Drag', 'South Congress',\n",
              "       'Georgian Acres', 'North Austin', 'West University', 'Austin',\n",
              "       'Katy', 'Sharpstown', 'Sugar Land', 'Galveston', 'Port Bolivar',\n",
              "       'Washington Avenue', 'Briar Meadow', 'Latta', 'Jacksonville',\n",
              "       'Lake Reams', 'Orlando', 'Kissimmee', 'Daytona Beach', 'Ridgeland',\n",
              "       'Florence', 'Meredith', 'Holly Springs', 'Chessington', 'Burtrose',\n",
              "       'Parkway', 'Mcvan', 'Capitol One', 'University District',\n",
              "       'Seattle', 'Redmond', 'Bellevue', 'San Francisco', 'Palo Alto',\n",
              "       'Sunnyvale', 'Newark', 'Menlo Park', 'Old City', 'Savon Height',\n",
              "       'Kilarney Woods', 'Townes at Everett Crossing', 'Huntington Woods',\n",
              "       'Weston', 'Seaport', 'Medical Centre', 'Rose Hill', 'Soho',\n",
              "       'Tribeca', 'Financial District', 'Oakland', 'Emeryville',\n",
              "       'Berkeley', 'Kenner', 'CBD', 'Lower Garden District', 'Storyville',\n",
              "       'New Orleans', 'Chalmette', 'Arabi', 'Pontchartrain Shores',\n",
              "       'Metairie', 'Summerwinds', 'Parkwood', 'Banner Elk', 'Boone',\n",
              "       'Stonewater', 'Lexington Park at Amberly', 'Winston Salem',\n",
              "       'Asheville', 'Topton', 'Renaissance', 'Santa Clara', 'Ingleside',\n",
              "       'West Berkeley', 'Mountain View', 'El Cerrito', 'Krendle Woods',\n",
              "       'Fuquay-Varina', 'Rawalpindi', 'Lahore', 'Karachi', 'Katunayake',\n",
              "       'Gampaha'], dtype=object)"
            ]
          },
          "metadata": {},
          "execution_count": 50
        }
      ]
    },
    {
      "cell_type": "markdown",
      "metadata": {
        "id": "s3s-pY1R198_"
      },
      "source": [
        "## Q12. What is the total number of unique start locations? (2 points)\n",
        "#### Note: Use the original dataframe without dropping 'NA' values"
      ]
    },
    {
      "cell_type": "code",
      "metadata": {
        "colab": {
          "base_uri": "https://localhost:8080/"
        },
        "id": "OOZy88AA199A",
        "outputId": "09d5fe04-0a14-4dcd-b686-62c9f8ce8d3b"
      },
      "source": [
        "uber_drives['START*'].nunique()"
      ],
      "execution_count": 51,
      "outputs": [
        {
          "output_type": "execute_result",
          "data": {
            "text/plain": [
              "176"
            ]
          },
          "metadata": {},
          "execution_count": 51
        }
      ]
    },
    {
      "cell_type": "markdown",
      "metadata": {
        "id": "LuKFv1_P199D"
      },
      "source": [
        "## Q13. What is the total number of unique stop locations. (2 points)\n",
        "#### Note: Use the original dataframe without dropping 'NA' values."
      ]
    },
    {
      "cell_type": "code",
      "metadata": {
        "colab": {
          "base_uri": "https://localhost:8080/"
        },
        "id": "5YeWcpZT199E",
        "outputId": "8ededb4f-8fe1-47ab-d346-059d681492aa"
      },
      "source": [
        "uber_drives['STOP*'].nunique()"
      ],
      "execution_count": 52,
      "outputs": [
        {
          "output_type": "execute_result",
          "data": {
            "text/plain": [
              "187"
            ]
          },
          "metadata": {},
          "execution_count": 52
        }
      ]
    },
    {
      "cell_type": "markdown",
      "metadata": {
        "id": "VmkTnPlt199H"
      },
      "source": [
        "## Q14. Display all Uber trips that has the starting point as San Francisco. (2 points)\n",
        "#### Note: Use the original dataframe without dropping the 'NA' values.\n"
      ]
    },
    {
      "cell_type": "code",
      "metadata": {
        "id": "fwhKZQfs199I",
        "colab": {
          "base_uri": "https://localhost:8080/",
          "height": 300
        },
        "outputId": "955f6c96-8955-44d5-afb5-0278b30043bd"
      },
      "source": [
        "uber_drives.loc[uber_drives[\"START*\"] == \"San Francisco\", : ]"
      ],
      "execution_count": 53,
      "outputs": [
        {
          "output_type": "execute_result",
          "data": {
            "text/html": [
              "<div>\n",
              "<style scoped>\n",
              "    .dataframe tbody tr th:only-of-type {\n",
              "        vertical-align: middle;\n",
              "    }\n",
              "\n",
              "    .dataframe tbody tr th {\n",
              "        vertical-align: top;\n",
              "    }\n",
              "\n",
              "    .dataframe thead th {\n",
              "        text-align: right;\n",
              "    }\n",
              "</style>\n",
              "<table border=\"1\" class=\"dataframe\">\n",
              "  <thead>\n",
              "    <tr style=\"text-align: right;\">\n",
              "      <th></th>\n",
              "      <th>START_DATE*</th>\n",
              "      <th>END_DATE*</th>\n",
              "      <th>CATEGORY*</th>\n",
              "      <th>START*</th>\n",
              "      <th>STOP*</th>\n",
              "      <th>MILES*</th>\n",
              "      <th>PURPOSE*</th>\n",
              "    </tr>\n",
              "  </thead>\n",
              "  <tbody>\n",
              "    <tr>\n",
              "      <th>362</th>\n",
              "      <td>05-09-2016 14:39</td>\n",
              "      <td>05-09-2016 15:06</td>\n",
              "      <td>Business</td>\n",
              "      <td>San Francisco</td>\n",
              "      <td>Palo Alto</td>\n",
              "      <td>20.5</td>\n",
              "      <td>Between Offices</td>\n",
              "    </tr>\n",
              "    <tr>\n",
              "      <th>440</th>\n",
              "      <td>6/14/2016 16:09</td>\n",
              "      <td>6/14/2016 16:39</td>\n",
              "      <td>Business</td>\n",
              "      <td>San Francisco</td>\n",
              "      <td>Emeryville</td>\n",
              "      <td>11.6</td>\n",
              "      <td>Meeting</td>\n",
              "    </tr>\n",
              "    <tr>\n",
              "      <th>836</th>\n",
              "      <td>10/19/2016 14:02</td>\n",
              "      <td>10/19/2016 14:31</td>\n",
              "      <td>Business</td>\n",
              "      <td>San Francisco</td>\n",
              "      <td>Berkeley</td>\n",
              "      <td>10.8</td>\n",
              "      <td>NaN</td>\n",
              "    </tr>\n",
              "    <tr>\n",
              "      <th>917</th>\n",
              "      <td>11-07-2016 19:17</td>\n",
              "      <td>11-07-2016 19:57</td>\n",
              "      <td>Business</td>\n",
              "      <td>San Francisco</td>\n",
              "      <td>Berkeley</td>\n",
              "      <td>13.2</td>\n",
              "      <td>Between Offices</td>\n",
              "    </tr>\n",
              "    <tr>\n",
              "      <th>919</th>\n",
              "      <td>11-08-2016 12:16</td>\n",
              "      <td>11-08-2016 12:49</td>\n",
              "      <td>Business</td>\n",
              "      <td>San Francisco</td>\n",
              "      <td>Berkeley</td>\n",
              "      <td>11.3</td>\n",
              "      <td>Meeting</td>\n",
              "    </tr>\n",
              "    <tr>\n",
              "      <th>927</th>\n",
              "      <td>11-09-2016 18:40</td>\n",
              "      <td>11-09-2016 19:17</td>\n",
              "      <td>Business</td>\n",
              "      <td>San Francisco</td>\n",
              "      <td>Oakland</td>\n",
              "      <td>12.7</td>\n",
              "      <td>Customer Visit</td>\n",
              "    </tr>\n",
              "    <tr>\n",
              "      <th>933</th>\n",
              "      <td>11-10-2016 15:17</td>\n",
              "      <td>11-10-2016 15:22</td>\n",
              "      <td>Business</td>\n",
              "      <td>San Francisco</td>\n",
              "      <td>Oakland</td>\n",
              "      <td>9.9</td>\n",
              "      <td>Temporary Site</td>\n",
              "    </tr>\n",
              "    <tr>\n",
              "      <th>966</th>\n",
              "      <td>11/15/2016 20:44</td>\n",
              "      <td>11/15/2016 21:00</td>\n",
              "      <td>Business</td>\n",
              "      <td>San Francisco</td>\n",
              "      <td>Berkeley</td>\n",
              "      <td>11.8</td>\n",
              "      <td>Temporary Site</td>\n",
              "    </tr>\n",
              "  </tbody>\n",
              "</table>\n",
              "</div>"
            ],
            "text/plain": [
              "          START_DATE*         END_DATE*  ... MILES*         PURPOSE*\n",
              "362  05-09-2016 14:39  05-09-2016 15:06  ...   20.5  Between Offices\n",
              "440   6/14/2016 16:09   6/14/2016 16:39  ...   11.6          Meeting\n",
              "836  10/19/2016 14:02  10/19/2016 14:31  ...   10.8              NaN\n",
              "917  11-07-2016 19:17  11-07-2016 19:57  ...   13.2  Between Offices\n",
              "919  11-08-2016 12:16  11-08-2016 12:49  ...   11.3          Meeting\n",
              "927  11-09-2016 18:40  11-09-2016 19:17  ...   12.7   Customer Visit\n",
              "933  11-10-2016 15:17  11-10-2016 15:22  ...    9.9   Temporary Site\n",
              "966  11/15/2016 20:44  11/15/2016 21:00  ...   11.8   Temporary Site\n",
              "\n",
              "[8 rows x 7 columns]"
            ]
          },
          "metadata": {},
          "execution_count": 53
        }
      ]
    },
    {
      "cell_type": "markdown",
      "metadata": {
        "id": "ZMsuzJcG199O"
      },
      "source": [
        "## Q15. What is the most popular starting point for the Uber drivers? (2 points)\n",
        "#### Note: Use the original dataframe without dropping the 'NA' values.\n",
        "\n",
        "#### Hint:Popular means the place that is visited the most"
      ]
    },
    {
      "cell_type": "code",
      "metadata": {
        "id": "a5QGyjza199P",
        "colab": {
          "base_uri": "https://localhost:8080/"
        },
        "outputId": "8e15d1d8-5e4a-46bd-b9e2-5f91c3300c05"
      },
      "source": [
        "uber_drives[\"START*\"].value_counts().head()\n",
        "\n",
        "# Answer is Cary with 201"
      ],
      "execution_count": 54,
      "outputs": [
        {
          "output_type": "execute_result",
          "data": {
            "text/plain": [
              "Cary                201\n",
              "Unknown Location    148\n",
              "Morrisville          85\n",
              "Whitebridge          68\n",
              "Islamabad            57\n",
              "Name: START*, dtype: int64"
            ]
          },
          "metadata": {},
          "execution_count": 54
        }
      ]
    },
    {
      "cell_type": "markdown",
      "metadata": {
        "id": "S13-HiPG199T"
      },
      "source": [
        "## Q16. What is the most popular dropping point for the Uber drivers? (2 points)\n",
        "#### Note: Use the original dataframe without dropping the 'NA' values.\n",
        "\n",
        "#### Hint: Popular means the place that is visited the most"
      ]
    },
    {
      "cell_type": "code",
      "metadata": {
        "id": "YP-hwvNT199T",
        "colab": {
          "base_uri": "https://localhost:8080/"
        },
        "outputId": "5ae80905-c98e-4906-93fe-76fe7bc73131"
      },
      "source": [
        "uber_drives[\"STOP*\"].value_counts().head()\n",
        "\n",
        "# Answer is Cary with 203"
      ],
      "execution_count": 55,
      "outputs": [
        {
          "output_type": "execute_result",
          "data": {
            "text/plain": [
              "Cary                203\n",
              "Unknown Location    149\n",
              "Morrisville          84\n",
              "Whitebridge          65\n",
              "Islamabad            58\n",
              "Name: STOP*, dtype: int64"
            ]
          },
          "metadata": {},
          "execution_count": 55
        }
      ]
    },
    {
      "cell_type": "markdown",
      "metadata": {
        "id": "6Iqizk7B199W"
      },
      "source": [
        "## Q17. What is the most frequent route taken by Uber drivers. (3 points)\n",
        "#### Note: This question is based on the new dataframe with no 'na' values.\n",
        "#### Hint-Print the most frequent route taken by Uber drivers (Route= combination of START & END points present in the Data set)."
      ]
    },
    {
      "cell_type": "code",
      "metadata": {
        "id": "f41v9gc4199X",
        "colab": {
          "base_uri": "https://localhost:8080/"
        },
        "outputId": "ae8a04dd-5b32-489d-e10d-f1464709da04"
      },
      "source": [
        "st_pt=df['START*'].value_counts().head()\n",
        "et_pt=df['STOP*'].value_counts().head()\n",
        "print(st_pt)\n",
        "print(\" \")\n",
        "print(et_pt)\n",
        "\n",
        "# Answer is CARY (Route= combination of START & END points present in the Data set)"
      ],
      "execution_count": 56,
      "outputs": [
        {
          "output_type": "stream",
          "name": "stdout",
          "text": [
            "Cary                161\n",
            "Unknown Location     55\n",
            "Morrisville          54\n",
            "Whitebridge          36\n",
            "Durham               30\n",
            "Name: START*, dtype: int64\n",
            " \n",
            "Cary                155\n",
            "Morrisville          60\n",
            "Unknown Location     56\n",
            "Whitebridge          37\n",
            "Durham               30\n",
            "Name: STOP*, dtype: int64\n"
          ]
        }
      ]
    },
    {
      "cell_type": "markdown",
      "metadata": {
        "id": "oBrYyZ-L199Z"
      },
      "source": [
        "## Q18. Display all types of purposes for the trip in an array. (2 points)\n",
        "#### Note: This question is based on the new dataframe with no 'NA' values."
      ]
    },
    {
      "cell_type": "code",
      "metadata": {
        "id": "p3fe_lTe199a",
        "colab": {
          "base_uri": "https://localhost:8080/"
        },
        "outputId": "b660523b-cc3a-4d8d-c0de-8d5c9cad27cc"
      },
      "source": [
        "df[\"PURPOSE*\"].unique()"
      ],
      "execution_count": 57,
      "outputs": [
        {
          "output_type": "execute_result",
          "data": {
            "text/plain": [
              "array(['Meal/Entertain', 'Errand/Supplies', 'Meeting', 'Customer Visit',\n",
              "       'Temporary Site', 'Between Offices', 'Charity ($)', 'Commute',\n",
              "       'Moving', 'Airport/Travel'], dtype=object)"
            ]
          },
          "metadata": {},
          "execution_count": 57
        }
      ]
    },
    {
      "cell_type": "markdown",
      "metadata": {
        "id": "WBN9Ufxc199d"
      },
      "source": [
        "## Q19. Plot a bar graph of Purpose vs Miles(Distance). What can you infer from the plot(2 +2 points)\n",
        "#### Note: Use the original dataframe without dropping the 'NA' values.\n",
        "#### Hint:You have to plot total/sum miles per purpose"
      ]
    },
    {
      "cell_type": "code",
      "metadata": {
        "id": "JaNSQ_qSa-Rg",
        "colab": {
          "base_uri": "https://localhost:8080/",
          "height": 753
        },
        "outputId": "c3682dbf-3385-471f-d4d5-a5188e001cad"
      },
      "source": [
        "uber_drives_new = uber_drives.fillna('NA/')\n",
        "list = uber_drives_new.groupby(['CATEGORY*','PURPOSE*']).sum()\n",
        "list\n",
        "\n",
        "# Plotting graph\n",
        "\n",
        "plt.figure(figsize = (10,10))\n",
        "\n",
        "list['MILES*'].plot( kind= 'bar' )\n",
        "\n",
        "# ANS = Conclusion: Category business has high number of not mentioned purposes"
      ],
      "execution_count": 79,
      "outputs": [
        {
          "output_type": "execute_result",
          "data": {
            "text/plain": [
              "<matplotlib.axes._subplots.AxesSubplot at 0x7fd975e62f10>"
            ]
          },
          "metadata": {},
          "execution_count": 79
        },
        {
          "output_type": "display_data",
          "data": {
            "image/png": "[encoded data removed]",
            "text/plain": [
              "<Figure size 720x720 with 1 Axes>"
            ]
          },
          "metadata": {
            "needs_background": "light"
          }
        }
      ]
    },
    {
      "cell_type": "markdown",
      "metadata": {
        "id": "b7-pD446199j"
      },
      "source": [
        "## Q20. Display a dataframe of Purpose and the total distance travelled for that particular Purpose. (3 points)\n",
        "#### Note: Use the original dataframe without dropping \"NA\" values"
      ]
    },
    {
      "cell_type": "code",
      "metadata": {
        "id": "Em4d7Ng9199k",
        "colab": {
          "base_uri": "https://localhost:8080/",
          "height": 425
        },
        "outputId": "407852ef-0242-43dc-a864-45f8d09c5040"
      },
      "source": [
        "dsum=uber_drives_new.groupby(['PURPOSE*']).sum()\n",
        "dsum"
      ],
      "execution_count": 75,
      "outputs": [
        {
          "output_type": "execute_result",
          "data": {
            "text/html": [
              "<div>\n",
              "<style scoped>\n",
              "    .dataframe tbody tr th:only-of-type {\n",
              "        vertical-align: middle;\n",
              "    }\n",
              "\n",
              "    .dataframe tbody tr th {\n",
              "        vertical-align: top;\n",
              "    }\n",
              "\n",
              "    .dataframe thead th {\n",
              "        text-align: right;\n",
              "    }\n",
              "</style>\n",
              "<table border=\"1\" class=\"dataframe\">\n",
              "  <thead>\n",
              "    <tr style=\"text-align: right;\">\n",
              "      <th></th>\n",
              "      <th>MILES*</th>\n",
              "    </tr>\n",
              "    <tr>\n",
              "      <th>PURPOSE*</th>\n",
              "      <th></th>\n",
              "    </tr>\n",
              "  </thead>\n",
              "  <tbody>\n",
              "    <tr>\n",
              "      <th>Airport/Travel</th>\n",
              "      <td>16.5</td>\n",
              "    </tr>\n",
              "    <tr>\n",
              "      <th>Between Offices</th>\n",
              "      <td>197.0</td>\n",
              "    </tr>\n",
              "    <tr>\n",
              "      <th>Charity ($)</th>\n",
              "      <td>15.1</td>\n",
              "    </tr>\n",
              "    <tr>\n",
              "      <th>Commute</th>\n",
              "      <td>180.2</td>\n",
              "    </tr>\n",
              "    <tr>\n",
              "      <th>Customer Visit</th>\n",
              "      <td>2089.5</td>\n",
              "    </tr>\n",
              "    <tr>\n",
              "      <th>Errand/Supplies</th>\n",
              "      <td>508.0</td>\n",
              "    </tr>\n",
              "    <tr>\n",
              "      <th>Meal/Entertain</th>\n",
              "      <td>911.7</td>\n",
              "    </tr>\n",
              "    <tr>\n",
              "      <th>Meeting</th>\n",
              "      <td>2851.3</td>\n",
              "    </tr>\n",
              "    <tr>\n",
              "      <th>Moving</th>\n",
              "      <td>18.2</td>\n",
              "    </tr>\n",
              "    <tr>\n",
              "      <th>NA/</th>\n",
              "      <td>4893.5</td>\n",
              "    </tr>\n",
              "    <tr>\n",
              "      <th>Temporary Site</th>\n",
              "      <td>523.7</td>\n",
              "    </tr>\n",
              "  </tbody>\n",
              "</table>\n",
              "</div>"
            ],
            "text/plain": [
              "                 MILES*\n",
              "PURPOSE*               \n",
              "Airport/Travel     16.5\n",
              "Between Offices   197.0\n",
              "Charity ($)        15.1\n",
              "Commute           180.2\n",
              "Customer Visit   2089.5\n",
              "Errand/Supplies   508.0\n",
              "Meal/Entertain    911.7\n",
              "Meeting          2851.3\n",
              "Moving             18.2\n",
              "NA/              4893.5\n",
              "Temporary Site    523.7"
            ]
          },
          "metadata": {},
          "execution_count": 75
        }
      ]
    },
    {
      "cell_type": "markdown",
      "metadata": {
        "id": "CIZBaeSt199o"
      },
      "source": [
        "## Q21. Generate a plot showing count of trips vs category of trips. What can you infer from the plot (2 +1 points)\n",
        "#### Note: Use the original dataframe without dropping the 'NA' values."
      ]
    },
    {
      "cell_type": "code",
      "metadata": {
        "id": "fRuxSI0W199p",
        "colab": {
          "base_uri": "https://localhost:8080/",
          "height": 515
        },
        "outputId": "4e616fdc-085a-4a3d-8ac4-afee432c6d1f"
      },
      "source": [
        "plt.figure(figsize = (8,8))\n",
        "\n",
        "sns.countplot(x = \"CATEGORY*\", data = uber_drives,  )\n",
        "\n",
        "# Ans: Conlcusion: Business trips are more than personal trips"
      ],
      "execution_count": 76,
      "outputs": [
        {
          "output_type": "execute_result",
          "data": {
            "text/plain": [
              "<matplotlib.axes._subplots.AxesSubplot at 0x7fd975f14390>"
            ]
          },
          "metadata": {},
          "execution_count": 76
        },
        {
          "output_type": "display_data",
          "data": {
            "image/png": "[encoded data removed]",
            "text/plain": [
              "<Figure size 576x576 with 1 Axes>"
            ]
          },
          "metadata": {
            "needs_background": "light"
          }
        }
      ]
    },
    {
      "cell_type": "markdown",
      "metadata": {
        "id": "VgzSzOt9199t"
      },
      "source": [
        "## Q22. What percentage of Miles were clocked under Business Category and what percentage of Miles were clocked under Personal Category ? (3 points)\n",
        "\n",
        "### Note:Use the original dataframe without dropping the 'NA' values. \n"
      ]
    },
    {
      "cell_type": "code",
      "metadata": {
        "id": "K6ExiAiI199u",
        "colab": {
          "base_uri": "https://localhost:8080/"
        },
        "outputId": "3d5d190b-1f7e-4c76-e978-841b9963c82d"
      },
      "source": [
        "total = uber_drives['MILES*'].sum()\n",
        "print(list)\n",
        "print(\" \")\n",
        "business= 16.5+197+2089.5+508+911.7+2851.3+4389.3+523.7\n",
        "totalbusiness = (business/total)*100\n",
        "print(\"Percentage of Miles were clocked under Business Category :\", totalbusiness)\n",
        "print(\" \")\n",
        "print(\"Percentage of Miles were clocked under Personal Category :\", 100-totalbusiness)\n",
        "\n",
        "# Percent miles Business Category: 94.11947856153776\n",
        "# Percent miles Personal Category: 5.880521438462239"
      ],
      "execution_count": 86,
      "outputs": [
        {
          "output_type": "stream",
          "name": "stdout",
          "text": [
            "                           MILES*\n",
            "CATEGORY* PURPOSE*               \n",
            "Business  Airport/Travel     16.5\n",
            "          Between Offices   197.0\n",
            "          Customer Visit   2089.5\n",
            "          Errand/Supplies   508.0\n",
            "          Meal/Entertain    911.7\n",
            "          Meeting          2851.3\n",
            "          NA/              4389.3\n",
            "          Temporary Site    523.7\n",
            "Personal  Charity ($)        15.1\n",
            "          Commute           180.2\n",
            "          Moving             18.2\n",
            "          NA/               504.2\n",
            " \n",
            "Percentage of Miles were clocked under Business Category : 94.11947856153776\n",
            " \n",
            "Percentage of Miles were clocked under Personal Category : 5.880521438462239\n"
          ]
        }
      ]
    },
    {
      "cell_type": "markdown",
      "metadata": {
        "id": "_kYn6PGTUntA"
      },
      "source": [
        "***THE END***"
      ]
    }
  ]
}